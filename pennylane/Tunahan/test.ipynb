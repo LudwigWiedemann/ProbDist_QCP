{
 "cells": [
  {
   "cell_type": "code",
   "id": "initial_id",
   "metadata": {
    "collapsed": true,
    "ExecuteTime": {
     "end_time": "2024-06-03T20:28:19.843196Z",
     "start_time": "2024-06-03T20:28:16.973123Z"
    }
   },
   "source": [
    "from pennylane import numpy as np\n",
    "import matplotlib.pyplot as plt\n",
    "\n",
    "def f(x):\n",
    "    #return np.sin(x) + 0.1*np.random.randn(len(x))\n",
    "    return np.sin(x) * np.cos(2*x)/2*np.sin(x)\n",
    "\n",
    "# target_function parameters\n",
    "degree = 1  # degree of the target function\n",
    "scaling = 1  # scaling of the data\n",
    "coeffs = [0.15 + 0.15j]*degree  # coefficients of non-zero frequencies\n",
    "coeff0 = 0.1  # coefficient of zero frequency\n",
    "def target_function(x):\n",
    "    \"\"\"Generate a truncated Fourier series, where the data gets re-scaled.\"\"\"\n",
    "    res = coeff0\n",
    "    for idx, coeff in enumerate(coeffs):\n",
    "        exponent = np.complex128(scaling * (idx+1) * x * 1j)\n",
    "        conj_coeff = np.conjugate(coeff)\n",
    "        res += coeff * np.exp(exponent) + conj_coeff * np.exp(-exponent)\n",
    "    return np.real(res)\n",
    "\n",
    "def plot_function(f, x_min=-2*np.pi, x_max=2*np.pi, n_points=10000, predicted=None):\n",
    "    x = np.linspace(x_min, x_max, n_points)\n",
    "    y = f(x)\n",
    "    plt.plot(x, y)\n",
    "    if predicted is not None:\n",
    "        predicted = predicted(x)\n",
    "        plt.plot(x, predicted, label='Predicted', color='red')\n",
    "    plt.show()\n",
    "\n",
    "#plot_function(lambda x: np.sin(x) * np.cos(2*x)/2*np.sin(x))\n",
    "#plot_function(lambda x: np.sin(x) + 0.1*np.random.randn(len(x)))\n",
    "plot_function(lambda x: f(x))\n",
    "\n",
    "#(lambda x: f(x), predicted=lambda x: np.sin(x) + numpy.random.randn() * 0.1)\n",
    "#plot_function(lambda x: target_function(x))\n",
    "#plot_function(lambda x: np.sin(x) + 0.1*np.random.randn(len(x)))"
   ],
   "execution_count": 1,
   "outputs": []
  },
  {
   "metadata": {
    "ExecuteTime": {
     "end_time": "2024-05-29T14:10:56.893436Z",
     "start_time": "2024-05-29T14:10:52.434641Z"
    }
   },
   "cell_type": "code",
   "source": [
    "import pennylane as qml\n",
    "\n",
    "n_ansatz_layers = 1\n",
    "n_qubits = 4\n",
    "\n",
    "dev = qml.device(\"default.qubit\", wires=n_qubits)\n",
    "\n",
    "@qml.qnode(dev)\n",
    "def ansatz(weights):\n",
    "    qml.StronglyEntanglingLayers(weights, wires=range(n_qubits))\n",
    "    return qml.expval(qml.Identity(wires=0))\n",
    "\n",
    "weights_ = 2 * np.pi * np.random.random(size=(n_ansatz_layers, n_qubits, 3))\n",
    "print(qml.draw(ansatz, expansion_strategy=\"device\")(weights_))\n",
    "\n",
    "\n",
    "\n",
    "\n",
    "def S(x, scaling=1.0):\n",
    "    \"\"\"Data-encoding circuit block.\"\"\"\n",
    "    for w in range(n_qubits):\n",
    "        qml.RX(x, wires=w)\n",
    "\n",
    "def W(theta):\n",
    "    \"\"\"Trainable circuit block.\"\"\"\n",
    "    qml.StronglyEntanglingLayers(theta, wires=range(n_qubits))\n",
    "\n",
    "\n",
    "@qml.qnode(dev)\n",
    "def parallel_circuit(weights, x):\n",
    "    \n",
    "    W(weights[0])\n",
    "    S(x)\n",
    "    W(weights[1])\n",
    "\n",
    "    return qml.expval(qml.PauliZ(wires=0))\n",
    "\n",
    "weights = 2 * np.pi * np.random.random(size=(2, 3, n_qubits, 3), requires_grad=True)\n",
    "\n",
    "x = np.linspace(-6, 6, 70, requires_grad=False)\n",
    "random_quantum_model_y = [parallel_circuit(weights, x_) for x_ in x]\n",
    "\n",
    "plt.plot(x, random_quantum_model_y, c='blue')\n",
    "plt.ylim(-1,1)\n",
    "plt.show();\n",
    "print(qml.draw(parallel_circuit, expansion_strategy=\"device\")(weights_, 0.5))\n",
    "# qml.drawer.use_style(\"black_white\")\n",
    "# fig, ax = qml.draw_mpl(parallel_circuit)(np.pi/4, 0.7)\n",
    "# plt.show()"
   ],
   "id": "fd899743bb437f2c",
   "execution_count": 6,
   "outputs": []
  },
  {
   "metadata": {
    "ExecuteTime": {
     "end_time": "2024-05-23T16:11:32.734939Z",
     "start_time": "2024-05-23T16:11:28.048403Z"
    }
   },
   "cell_type": "code",
   "source": [
    "def square_loss(targets, predictions):\n",
    "    loss = 0\n",
    "    for t, p in zip(targets, predictions):\n",
    "        loss += (t - p) ** 2\n",
    "    loss = loss / len(targets)\n",
    "    return 0.5*loss\n",
    "\n",
    "def cost(weights, x, y):\n",
    "    predictions = [parallel_circuit(weights, x_) for x_ in x]\n",
    "    return square_loss(y, predictions)\n",
    "\n",
    "x = np.linspace(-6, 6, 70, requires_grad=False)\n",
    "target_y = np.array([target_function(x) for x_ in x], requires_grad=False)\n",
    "\n",
    "max_steps = 50\n",
    "opt = qml.AdamOptimizer(0.3)\n",
    "batch_size = 25\n",
    "cst = [cost(weights, x, target_y)]  # initial cost\n",
    "\n",
    "for step in range(max_steps):\n",
    "\n",
    "    # Select batch of data\n",
    "    batch_index = np.random.randint(0, len(x), (batch_size,))\n",
    "    x_batch = x[batch_index]\n",
    "    y_batch = target_y[batch_index]\n",
    "\n",
    "    # Update the weights by one optimizer step\n",
    "    weights, _, _ = opt.step(cost, weights, x_batch, y_batch)\n",
    "\n",
    "    # Save, and possibly print, the current cost\n",
    "    c = cost(weights, x, target_y)\n",
    "    cst.append(c)\n",
    "    if (step + 1) % 10 == 0:\n",
    "        print(\"Cost at step {0:3}: {1}\".format(step + 1, c))"
   ],
   "id": "bdce4e38aec50fee",
   "execution_count": 105,
   "outputs": []
  }
 ],
 "metadata": {
  "kernelspec": {
   "display_name": "Python 3",
   "language": "python",
   "name": "python3"
  },
  "language_info": {
   "codemirror_mode": {
    "name": "ipython",
    "version": 2
   },
   "file_extension": ".py",
   "mimetype": "text/x-python",
   "name": "python",
   "nbconvert_exporter": "python",
   "pygments_lexer": "ipython2",
   "version": "2.7.6"
  }
 },
 "nbformat": 4,
 "nbformat_minor": 5
}
