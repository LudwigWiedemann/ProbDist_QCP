{
 "cells": [
  {
   "cell_type": "code",
   "id": "initial_id",
   "metadata": {
    "collapsed": true,
    "ExecuteTime": {
     "end_time": "2024-05-27T19:16:07.497748Z",
     "start_time": "2024-05-27T19:16:07.301436Z"
    }
   },
   "source": [
    "from pennylane import numpy as np\n",
    "import matplotlib.pyplot as plt\n",
    "\n",
    "def f(x):\n",
    "    return np.sin(x) + 0.1*np.random.randn(len(x))\n",
    "\n",
    "# target_function parameters\n",
    "degree = 1  # degree of the target function\n",
    "scaling = 1  # scaling of the data\n",
    "coeffs = [0.15 + 0.15j]*degree  # coefficients of non-zero frequencies\n",
    "coeff0 = 0.1  # coefficient of zero frequency\n",
    "def target_function(x):\n",
    "    \"\"\"Generate a truncated Fourier series, where the data gets re-scaled.\"\"\"\n",
    "    res = coeff0\n",
    "    for idx, coeff in enumerate(coeffs):\n",
    "        exponent = np.complex128(scaling * (idx+1) * x * 1j)\n",
    "        conj_coeff = np.conjugate(coeff)\n",
    "        res += coeff * np.exp(exponent) + conj_coeff * np.exp(-exponent)\n",
    "    return np.real(res)\n",
    "\n",
    "def plot_function(f, x_min=-2*np.pi, x_max=2*np.pi, n_points=10000, predicted=None):\n",
    "    x = np.linspace(x_min, x_max, n_points)\n",
    "    y = f(x)\n",
    "    plt.plot(x, y)\n",
    "    if predicted is not None:\n",
    "        predicted = predicted(x)\n",
    "        plt.plot(x, predicted, label='Predicted', color='red')\n",
    "    plt.show()\n",
    "\n",
    "#plot_function(lambda x: np.sin(x) * np.cos(2*x)/2*np.sin(x))\n",
    "#plot_function(lambda x: np.sin(x) + 0.1*np.random.randn(len(x)))\n",
    "plot_function(lambda x: f(x))\n",
    "\n",
    "#(lambda x: f(x), predicted=lambda x: np.sin(x) + numpy.random.randn() * 0.1)\n",
    "#plot_function(lambda x: target_function(x))\n",
    "#plot_function(lambda x: np.sin(x) + 0.1*np.random.randn(len(x)))"
   ],
   "outputs": [
    {
     "data": {
      "text/plain": [
       "<Figure size 640x480 with 1 Axes>"
      ],
      "image/png": "[encoded data removed]"
     },
     "metadata": {},
     "output_type": "display_data"
    }
   ],
   "execution_count": 2
  },
  {
   "metadata": {
    "ExecuteTime": {
     "end_time": "2024-05-27T18:00:24.700774Z",
     "start_time": "2024-05-27T18:00:20.985408Z"
    }
   },
   "cell_type": "code",
   "source": [
    "import pennylane as qml\n",
    "\n",
    "n_ansatz_layers = 1\n",
    "n_qubits = 4\n",
    "\n",
    "dev = qml.device(\"default.qubit\", wires=n_qubits)\n",
    "\n",
    "@qml.qnode(dev)\n",
    "def ansatz(weights):\n",
    "    qml.StronglyEntanglingLayers(weights, wires=range(n_qubits))\n",
    "    return qml.expval(qml.Identity(wires=0))\n",
    "\n",
    "weights_ = 2 * np.pi * np.random.random(size=(n_ansatz_layers, n_qubits, 3))\n",
    "print(qml.draw(ansatz, expansion_strategy=\"device\")(weights_))\n",
    "\n",
    "\n",
    "\n",
    "\n",
    "def S(x, scaling=1.0):\n",
    "    \"\"\"Data-encoding circuit block.\"\"\"\n",
    "    for w in range(n_qubits):\n",
    "        qml.RX(x, wires=w)\n",
    "\n",
    "def W(theta):\n",
    "    \"\"\"Trainable circuit block.\"\"\"\n",
    "    qml.StronglyEntanglingLayers(theta, wires=range(n_qubits))\n",
    "\n",
    "\n",
    "@qml.qnode(dev)\n",
    "def parallel_circuit(weights, x):\n",
    "    \n",
    "    W(weights[0])\n",
    "    S(x)\n",
    "    W(weights[1])\n",
    "\n",
    "    return qml.expval(qml.PauliZ(wires=0))\n",
    "\n",
    "weights = 2 * np.pi * np.random.random(size=(2, 3, n_qubits, 3), requires_grad=True)\n",
    "\n",
    "x = np.linspace(-6, 6, 70, requires_grad=False)\n",
    "random_quantum_model_y = [parallel_circuit(weights, x_) for x_ in x]\n",
    "\n",
    "plt.plot(x, random_quantum_model_y, c='blue')\n",
    "plt.ylim(-1,1)\n",
    "plt.show();\n",
    "print(qml.draw(parallel_circuit, expansion_strategy=\"device\")(weights_, 0.5))"
   ],
   "id": "fd899743bb437f2c",
   "outputs": [
    {
     "ename": "NameError",
     "evalue": "name 'np' is not defined",
     "output_type": "error",
     "traceback": [
      "\u001B[1;31m---------------------------------------------------------------------------\u001B[0m",
      "\u001B[1;31mNameError\u001B[0m                                 Traceback (most recent call last)",
      "Cell \u001B[1;32mIn[1], line 13\u001B[0m\n\u001B[0;32m     10\u001B[0m     qml\u001B[38;5;241m.\u001B[39mStronglyEntanglingLayers(weights, wires\u001B[38;5;241m=\u001B[39m\u001B[38;5;28mrange\u001B[39m(n_qubits))\n\u001B[0;32m     11\u001B[0m     \u001B[38;5;28;01mreturn\u001B[39;00m qml\u001B[38;5;241m.\u001B[39mexpval(qml\u001B[38;5;241m.\u001B[39mIdentity(wires\u001B[38;5;241m=\u001B[39m\u001B[38;5;241m0\u001B[39m))\n\u001B[1;32m---> 13\u001B[0m weights_ \u001B[38;5;241m=\u001B[39m \u001B[38;5;241m2\u001B[39m \u001B[38;5;241m*\u001B[39m \u001B[43mnp\u001B[49m\u001B[38;5;241m.\u001B[39mpi \u001B[38;5;241m*\u001B[39m np\u001B[38;5;241m.\u001B[39mrandom\u001B[38;5;241m.\u001B[39mrandom(size\u001B[38;5;241m=\u001B[39m(n_ansatz_layers, n_qubits, \u001B[38;5;241m3\u001B[39m))\n\u001B[0;32m     14\u001B[0m \u001B[38;5;28mprint\u001B[39m(qml\u001B[38;5;241m.\u001B[39mdraw(ansatz, expansion_strategy\u001B[38;5;241m=\u001B[39m\u001B[38;5;124m\"\u001B[39m\u001B[38;5;124mdevice\u001B[39m\u001B[38;5;124m\"\u001B[39m)(weights_))\n\u001B[0;32m     19\u001B[0m \u001B[38;5;28;01mdef\u001B[39;00m \u001B[38;5;21mS\u001B[39m(x, scaling\u001B[38;5;241m=\u001B[39m\u001B[38;5;241m1.0\u001B[39m):\n",
      "\u001B[1;31mNameError\u001B[0m: name 'np' is not defined"
     ]
    }
   ],
   "execution_count": 1
  },
  {
   "metadata": {
    "ExecuteTime": {
     "end_time": "2024-05-23T16:11:32.734939Z",
     "start_time": "2024-05-23T16:11:28.048403Z"
    }
   },
   "cell_type": "code",
   "source": [
    "def square_loss(targets, predictions):\n",
    "    loss = 0\n",
    "    for t, p in zip(targets, predictions):\n",
    "        loss += (t - p) ** 2\n",
    "    loss = loss / len(targets)\n",
    "    return 0.5*loss\n",
    "\n",
    "def cost(weights, x, y):\n",
    "    predictions = [parallel_circuit(weights, x_) for x_ in x]\n",
    "    return square_loss(y, predictions)\n",
    "\n",
    "x = np.linspace(-6, 6, 70, requires_grad=False)\n",
    "target_y = np.array([target_function(x) for x_ in x], requires_grad=False)\n",
    "\n",
    "max_steps = 50\n",
    "opt = qml.AdamOptimizer(0.3)\n",
    "batch_size = 25\n",
    "cst = [cost(weights, x, target_y)]  # initial cost\n",
    "\n",
    "for step in range(max_steps):\n",
    "\n",
    "    # Select batch of data\n",
    "    batch_index = np.random.randint(0, len(x), (batch_size,))\n",
    "    x_batch = x[batch_index]\n",
    "    y_batch = target_y[batch_index]\n",
    "\n",
    "    # Update the weights by one optimizer step\n",
    "    weights, _, _ = opt.step(cost, weights, x_batch, y_batch)\n",
    "\n",
    "    # Save, and possibly print, the current cost\n",
    "    c = cost(weights, x, target_y)\n",
    "    cst.append(c)\n",
    "    if (step + 1) % 10 == 0:\n",
    "        print(\"Cost at step {0:3}: {1}\".format(step + 1, c))"
   ],
   "id": "bdce4e38aec50fee",
   "outputs": [
    {
     "ename": "TypeError",
     "evalue": "Grad only applies to real scalar-output functions. Try jacobian, elementwise_grad or holomorphic_grad.",
     "output_type": "error",
     "traceback": [
      "\u001B[1;31m---------------------------------------------------------------------------\u001B[0m",
      "\u001B[1;31mTypeError\u001B[0m                                 Traceback (most recent call last)",
      "Cell \u001B[1;32mIn[105], line 28\u001B[0m\n\u001B[0;32m     25\u001B[0m y_batch \u001B[38;5;241m=\u001B[39m target_y[batch_index]\n\u001B[0;32m     27\u001B[0m \u001B[38;5;66;03m# Update the weights by one optimizer step\u001B[39;00m\n\u001B[1;32m---> 28\u001B[0m weights, _, _ \u001B[38;5;241m=\u001B[39m \u001B[43mopt\u001B[49m\u001B[38;5;241;43m.\u001B[39;49m\u001B[43mstep\u001B[49m\u001B[43m(\u001B[49m\u001B[43mcost\u001B[49m\u001B[43m,\u001B[49m\u001B[43m \u001B[49m\u001B[43mweights\u001B[49m\u001B[43m,\u001B[49m\u001B[43m \u001B[49m\u001B[43mx_batch\u001B[49m\u001B[43m,\u001B[49m\u001B[43m \u001B[49m\u001B[43my_batch\u001B[49m\u001B[43m)\u001B[49m\n\u001B[0;32m     30\u001B[0m \u001B[38;5;66;03m# Save, and possibly print, the current cost\u001B[39;00m\n\u001B[0;32m     31\u001B[0m c \u001B[38;5;241m=\u001B[39m cost(weights, x, target_y)\n",
      "File \u001B[1;32m~\\AppData\\Local\\Programs\\Python\\Python312\\Lib\\site-packages\\pennylane\\optimize\\gradient_descent.py:93\u001B[0m, in \u001B[0;36mGradientDescentOptimizer.step\u001B[1;34m(self, objective_fn, grad_fn, *args, **kwargs)\u001B[0m\n\u001B[0;32m     75\u001B[0m \u001B[38;5;28;01mdef\u001B[39;00m \u001B[38;5;21mstep\u001B[39m(\u001B[38;5;28mself\u001B[39m, objective_fn, \u001B[38;5;241m*\u001B[39margs, grad_fn\u001B[38;5;241m=\u001B[39m\u001B[38;5;28;01mNone\u001B[39;00m, \u001B[38;5;241m*\u001B[39m\u001B[38;5;241m*\u001B[39mkwargs):\n\u001B[0;32m     76\u001B[0m \u001B[38;5;250m    \u001B[39m\u001B[38;5;124;03m\"\"\"Update trainable arguments with one step of the optimizer.\u001B[39;00m\n\u001B[0;32m     77\u001B[0m \n\u001B[0;32m     78\u001B[0m \u001B[38;5;124;03m    Args:\u001B[39;00m\n\u001B[1;32m   (...)\u001B[0m\n\u001B[0;32m     90\u001B[0m \u001B[38;5;124;03m        If single arg is provided, list [array] is replaced by array.\u001B[39;00m\n\u001B[0;32m     91\u001B[0m \u001B[38;5;124;03m    \"\"\"\u001B[39;00m\n\u001B[1;32m---> 93\u001B[0m     g, _ \u001B[38;5;241m=\u001B[39m \u001B[38;5;28;43mself\u001B[39;49m\u001B[38;5;241;43m.\u001B[39;49m\u001B[43mcompute_grad\u001B[49m\u001B[43m(\u001B[49m\u001B[43mobjective_fn\u001B[49m\u001B[43m,\u001B[49m\u001B[43m \u001B[49m\u001B[43margs\u001B[49m\u001B[43m,\u001B[49m\u001B[43m \u001B[49m\u001B[43mkwargs\u001B[49m\u001B[43m,\u001B[49m\u001B[43m \u001B[49m\u001B[43mgrad_fn\u001B[49m\u001B[38;5;241;43m=\u001B[39;49m\u001B[43mgrad_fn\u001B[49m\u001B[43m)\u001B[49m\n\u001B[0;32m     94\u001B[0m     new_args \u001B[38;5;241m=\u001B[39m \u001B[38;5;28mself\u001B[39m\u001B[38;5;241m.\u001B[39mapply_grad(g, args)\n\u001B[0;32m     96\u001B[0m     \u001B[38;5;66;03m# unwrap from list if one argument, cleaner return\u001B[39;00m\n",
      "File \u001B[1;32m~\\AppData\\Local\\Programs\\Python\\Python312\\Lib\\site-packages\\pennylane\\optimize\\gradient_descent.py:122\u001B[0m, in \u001B[0;36mGradientDescentOptimizer.compute_grad\u001B[1;34m(objective_fn, args, kwargs, grad_fn)\u001B[0m\n\u001B[0;32m    104\u001B[0m \u001B[38;5;250m\u001B[39m\u001B[38;5;124mr\u001B[39m\u001B[38;5;124;03m\"\"\"Compute gradient of the objective function at the given point and return it along with\u001B[39;00m\n\u001B[0;32m    105\u001B[0m \u001B[38;5;124;03mthe objective function forward pass (if available).\u001B[39;00m\n\u001B[0;32m    106\u001B[0m \n\u001B[1;32m   (...)\u001B[0m\n\u001B[0;32m    119\u001B[0m \u001B[38;5;124;03m    will not be evaluted and instead ``None`` will be returned.\u001B[39;00m\n\u001B[0;32m    120\u001B[0m \u001B[38;5;124;03m\"\"\"\u001B[39;00m\n\u001B[0;32m    121\u001B[0m g \u001B[38;5;241m=\u001B[39m get_gradient(objective_fn) \u001B[38;5;28;01mif\u001B[39;00m grad_fn \u001B[38;5;129;01mis\u001B[39;00m \u001B[38;5;28;01mNone\u001B[39;00m \u001B[38;5;28;01melse\u001B[39;00m grad_fn\n\u001B[1;32m--> 122\u001B[0m grad \u001B[38;5;241m=\u001B[39m \u001B[43mg\u001B[49m\u001B[43m(\u001B[49m\u001B[38;5;241;43m*\u001B[39;49m\u001B[43margs\u001B[49m\u001B[43m,\u001B[49m\u001B[43m \u001B[49m\u001B[38;5;241;43m*\u001B[39;49m\u001B[38;5;241;43m*\u001B[39;49m\u001B[43mkwargs\u001B[49m\u001B[43m)\u001B[49m\n\u001B[0;32m    123\u001B[0m forward \u001B[38;5;241m=\u001B[39m \u001B[38;5;28mgetattr\u001B[39m(g, \u001B[38;5;124m\"\u001B[39m\u001B[38;5;124mforward\u001B[39m\u001B[38;5;124m\"\u001B[39m, \u001B[38;5;28;01mNone\u001B[39;00m)\n\u001B[0;32m    125\u001B[0m num_trainable_args \u001B[38;5;241m=\u001B[39m \u001B[38;5;28msum\u001B[39m(\u001B[38;5;28mgetattr\u001B[39m(arg, \u001B[38;5;124m\"\u001B[39m\u001B[38;5;124mrequires_grad\u001B[39m\u001B[38;5;124m\"\u001B[39m, \u001B[38;5;28;01mFalse\u001B[39;00m) \u001B[38;5;28;01mfor\u001B[39;00m arg \u001B[38;5;129;01min\u001B[39;00m args)\n",
      "File \u001B[1;32m~\\AppData\\Local\\Programs\\Python\\Python312\\Lib\\site-packages\\pennylane\\_grad.py:165\u001B[0m, in \u001B[0;36mgrad.__call__\u001B[1;34m(self, *args, **kwargs)\u001B[0m\n\u001B[0;32m    162\u001B[0m     \u001B[38;5;28mself\u001B[39m\u001B[38;5;241m.\u001B[39m_forward \u001B[38;5;241m=\u001B[39m \u001B[38;5;28mself\u001B[39m\u001B[38;5;241m.\u001B[39m_fun(\u001B[38;5;241m*\u001B[39margs, \u001B[38;5;241m*\u001B[39m\u001B[38;5;241m*\u001B[39mkwargs)\n\u001B[0;32m    163\u001B[0m     \u001B[38;5;28;01mreturn\u001B[39;00m ()\n\u001B[1;32m--> 165\u001B[0m grad_value, ans \u001B[38;5;241m=\u001B[39m \u001B[43mgrad_fn\u001B[49m\u001B[43m(\u001B[49m\u001B[38;5;241;43m*\u001B[39;49m\u001B[43margs\u001B[49m\u001B[43m,\u001B[49m\u001B[43m \u001B[49m\u001B[38;5;241;43m*\u001B[39;49m\u001B[38;5;241;43m*\u001B[39;49m\u001B[43mkwargs\u001B[49m\u001B[43m)\u001B[49m  \u001B[38;5;66;03m# pylint: disable=not-callable\u001B[39;00m\n\u001B[0;32m    166\u001B[0m \u001B[38;5;28mself\u001B[39m\u001B[38;5;241m.\u001B[39m_forward \u001B[38;5;241m=\u001B[39m ans\n\u001B[0;32m    168\u001B[0m \u001B[38;5;28;01mreturn\u001B[39;00m grad_value\n",
      "File \u001B[1;32m~\\AppData\\Local\\Programs\\Python\\Python312\\Lib\\site-packages\\autograd\\wrap_util.py:20\u001B[0m, in \u001B[0;36munary_to_nary.<locals>.nary_operator.<locals>.nary_f\u001B[1;34m(*args, **kwargs)\u001B[0m\n\u001B[0;32m     18\u001B[0m \u001B[38;5;28;01melse\u001B[39;00m:\n\u001B[0;32m     19\u001B[0m     x \u001B[38;5;241m=\u001B[39m \u001B[38;5;28mtuple\u001B[39m(args[i] \u001B[38;5;28;01mfor\u001B[39;00m i \u001B[38;5;129;01min\u001B[39;00m argnum)\n\u001B[1;32m---> 20\u001B[0m \u001B[38;5;28;01mreturn\u001B[39;00m \u001B[43munary_operator\u001B[49m\u001B[43m(\u001B[49m\u001B[43munary_f\u001B[49m\u001B[43m,\u001B[49m\u001B[43m \u001B[49m\u001B[43mx\u001B[49m\u001B[43m,\u001B[49m\u001B[43m \u001B[49m\u001B[38;5;241;43m*\u001B[39;49m\u001B[43mnary_op_args\u001B[49m\u001B[43m,\u001B[49m\u001B[43m \u001B[49m\u001B[38;5;241;43m*\u001B[39;49m\u001B[38;5;241;43m*\u001B[39;49m\u001B[43mnary_op_kwargs\u001B[49m\u001B[43m)\u001B[49m\n",
      "File \u001B[1;32m~\\AppData\\Local\\Programs\\Python\\Python312\\Lib\\site-packages\\pennylane\\_grad.py:186\u001B[0m, in \u001B[0;36mgrad._grad_with_forward\u001B[1;34m(fun, x)\u001B[0m\n\u001B[0;32m    183\u001B[0m vjp, ans \u001B[38;5;241m=\u001B[39m _make_vjp(fun, x)  \u001B[38;5;66;03m# pylint: disable=redefined-outer-name\u001B[39;00m\n\u001B[0;32m    185\u001B[0m \u001B[38;5;28;01mif\u001B[39;00m vspace(ans)\u001B[38;5;241m.\u001B[39msize \u001B[38;5;241m!=\u001B[39m \u001B[38;5;241m1\u001B[39m:\n\u001B[1;32m--> 186\u001B[0m     \u001B[38;5;28;01mraise\u001B[39;00m \u001B[38;5;167;01mTypeError\u001B[39;00m(\n\u001B[0;32m    187\u001B[0m         \u001B[38;5;124m\"\u001B[39m\u001B[38;5;124mGrad only applies to real scalar-output functions. \u001B[39m\u001B[38;5;124m\"\u001B[39m\n\u001B[0;32m    188\u001B[0m         \u001B[38;5;124m\"\u001B[39m\u001B[38;5;124mTry jacobian, elementwise_grad or holomorphic_grad.\u001B[39m\u001B[38;5;124m\"\u001B[39m\n\u001B[0;32m    189\u001B[0m     )\n\u001B[0;32m    191\u001B[0m grad_value \u001B[38;5;241m=\u001B[39m vjp(vspace(ans)\u001B[38;5;241m.\u001B[39mones())\n\u001B[0;32m    192\u001B[0m \u001B[38;5;28;01mreturn\u001B[39;00m grad_value, ans\n",
      "\u001B[1;31mTypeError\u001B[0m: Grad only applies to real scalar-output functions. Try jacobian, elementwise_grad or holomorphic_grad."
     ]
    }
   ],
   "execution_count": 105
  }
 ],
 "metadata": {
  "kernelspec": {
   "display_name": "Python 3",
   "language": "python",
   "name": "python3"
  },
  "language_info": {
   "codemirror_mode": {
    "name": "ipython",
    "version": 2
   },
   "file_extension": ".py",
   "mimetype": "text/x-python",
   "name": "python",
   "nbconvert_exporter": "python",
   "pygments_lexer": "ipython2",
   "version": "2.7.6"
  }
 },
 "nbformat": 4,
 "nbformat_minor": 5
}
