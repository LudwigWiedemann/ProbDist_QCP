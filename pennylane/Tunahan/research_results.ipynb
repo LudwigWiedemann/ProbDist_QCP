{
 "cells": [
  {
   "metadata": {},
   "cell_type": "markdown",
   "source": "# Research Results and Discussion",
   "id": "a8fedb7ce9451924"
  },
  {
   "metadata": {},
   "cell_type": "code",
   "outputs": [],
   "execution_count": null,
   "source": "",
   "id": "1c74aead7f00ea92"
  }
 ],
 "metadata": {
  "kernelspec": {
   "display_name": "Python 3",
   "language": "python",
   "name": "python3"
  },
  "language_info": {
   "codemirror_mode": {
    "name": "ipython",
    "version": 2
   },
   "file_extension": ".py",
   "mimetype": "text/x-python",
   "name": "python",
   "nbconvert_exporter": "python",
   "pygments_lexer": "ipython2",
   "version": "2.7.6"
  }
 },
 "nbformat": 4,
 "nbformat_minor": 5
}
