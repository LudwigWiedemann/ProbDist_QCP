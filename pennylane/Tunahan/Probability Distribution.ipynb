{
 "cells": [
  {
   "metadata": {},
   "cell_type": "markdown",
   "source": [
    "# Probability Distribution using VQCs / Quantum Machine Learning\n",
    "\n",
    "Goal: Create a pipeline to generate probability distributions using VQCs "
   ],
   "id": "38253551e489c0e"
  },
  {
   "metadata": {},
   "cell_type": "markdown",
   "source": [
    "## 1. Method (Pipeline for any function):\n",
    "\n",
    "\n",
    "1. Define number of qubits, layers and a quantum circuit\n",
    "2. Generate Training Data for variable function\n",
    "3. Train the circuit (with cost function) to fit into the target function\n",
    "4. Collect many outputs from the circuit to generate a distribution (stochastic process)\n",
    "5. Plot the distribution"
   ],
   "id": "166d6f61777e169"
  },
  {
   "metadata": {
    "ExecuteTime": {
     "end_time": "2024-05-21T23:21:41.984767Z",
     "start_time": "2024-05-21T23:21:13.001306Z"
    }
   },
   "cell_type": "code",
   "source": [
    "# import libraries\n",
    "import pennylane as qml\n",
    "from pennylane import numpy as np\n",
    "import matplotlib.pyplot as plt\n",
    "\n",
    "# Define the number of qubits and layers (starting slow)\n",
    "num_qubits = 1\n",
    "num_gates = 5\n",
    "\n",
    "# Define the quantum device\n",
    "dev = qml.device(\"default.qubit\", wires=num_qubits)\n",
    "# Define the variational circuit\n",
    "@qml.qnode(dev)\n",
    "def circuit(weights, x):\n",
    "    qml.RY(weights[0] * x, wires=0)\n",
    "    qml.RY(weights[1] * x, wires=0)\n",
    "    qml.RY(weights[2] * x, wires=0)\n",
    "    qml.RY(weights[3] * x, wires=0)\n",
    "    qml.RY(weights[4] * x, wires=0)\n",
    "    \n",
    "    # Encode the input x into the circuit (manually or using templates)\n",
    "    # for counter in range(num_gates):\n",
    "    #     qml.RY(weights[counter] * x, wires=0)\n",
    "        #qml.RZ(x * weights[counter], wires=0)\n",
    "    \n",
    "    # qml.templates.AngleEmbedding(x, wires=range(num_qubits))\n",
    "    # qml.templates.StronglyEntanglingLayers(weights * x, wires=range(num_qubits))\n",
    "    return qml.expval(qml.PauliZ(0))\n",
    "\n",
    "# Generate training data for a function (e.g. sin(x), x^2, sin(x) + x^2, etc.)\n",
    "num_training_points = 250\n",
    "input_train = np.random.uniform(0, 2*np.pi, num_training_points) # random values\n",
    "\n",
    "# Define the target function\n",
    "sin_x = np.sin(input_train)\n",
    "sin_x_noise = sin_x + 0.1 * np.random.normal(size=num_training_points)\n",
    "target_function = sin_x\n",
    "\n",
    "\n",
    "# Initialize the weights and optimizer\n",
    "weights = np.random.uniform(0, 2 * np.pi, num_gates)\n",
    "opt = qml.AdamOptimizer(stepsize=0.01)\n",
    "steps = 200\n",
    "\n",
    "# Train the circuit\n",
    "\n",
    "# Define some loss functions\n",
    "def mean_squared_error(prediction, target):\n",
    "    return np.mean((prediction - target)**2)\n",
    "\n",
    "# Define the cost function\n",
    "def cost(weights, idx):\n",
    "    x = input_train[idx]\n",
    "    target = target_function[idx]\n",
    "    prediction = circuit(weights, x)\n",
    "    regularization = np.sum(np.abs(weights))\n",
    "    return mean_squared_error(prediction, target) + 0.01 * regularization\n",
    "\n",
    "for i in range(steps):\n",
    "    for idx in range(num_training_points):\n",
    "        weights = opt.step(cost, weights, idx=idx)\n",
    "    if (i + 1) % 5 == 0:\n",
    "        # for x in range(input_train.shape[0]):\n",
    "        #     predicted_output = circuit(weights, x)\n",
    "        #     error = np.abs(predicted_output - target_function[x])\n",
    "        #     print(f\"Step: {i}, Input: {x}, Expected: {target_function[x]:.4f}, Predicted: {predicted_output:.4f}, Error: {error:.4f}\")\n",
    "        predicted_output = circuit(weights, idx)\n",
    "        error = np.abs(predicted_output - target_function[idx])\n",
    "        print(f\"Cost after step {i + 1}/{steps}: {cost(weights, idx=idx)}\\n target: {target_function[idx]}, prediction: {predicted_output}, error: {error}\")\n",
    "\n",
    "\n",
    "# Plot the predictions\n",
    "# Generate input values for the plot\n",
    "input_values = np.array(input_train)\n",
    "\n",
    "# Compute actual function values and predicted function values\n",
    "predicted_values = np.array([circuit(weights, x) for x in input_values])\n",
    "\n",
    "# Sort the values for plotting\n",
    "sort_indices = np.argsort(input_values)\n",
    "input_values = input_values[sort_indices]\n",
    "predicted_values = predicted_values[sort_indices]\n",
    "target_function = target_function[sort_indices]\n",
    "\n",
    "# Plot actual function values and predicted function values\n",
    "plt.figure(figsize=(10, 6))\n",
    "plt.plot(input_values, target_function, label='Actual function')\n",
    "plt.plot(input_values, predicted_values, label='Predicted function')\n",
    "plt.legend()\n",
    "plt.xlabel('Input')\n",
    "plt.ylabel('Function values')\n",
    "plt.title('Actual vs Predicted function')\n",
    "plt.show()"
   ],
   "id": "c1ab8ea7f34308a",
   "outputs": [
    {
     "name": "stdout",
     "output_type": "stream",
     "text": [
      "Cost after step 5/200: 0.3264297798115573\n",
      " target: 0.6102838820892661, prediction: -0.144748166946371, error: 0.755032049035637\n",
      "Cost after step 10/200: 0.3264348680212036\n",
      " target: 0.6102838820892661, prediction: -0.14737850136526803, error: 0.7576623834545342\n",
      "Cost after step 15/200: 0.3264348679881876\n",
      " target: 0.6102838820892661, prediction: -0.14737848430066713, error: 0.7576623663899332\n"
     ]
    },
    {
     "ename": "KeyboardInterrupt",
     "evalue": "",
     "output_type": "error",
     "traceback": [
      "\u001B[1;31m---------------------------------------------------------------------------\u001B[0m",
      "\u001B[1;31mKeyboardInterrupt\u001B[0m                         Traceback (most recent call last)",
      "Cell \u001B[1;32mIn[116], line 61\u001B[0m\n\u001B[0;32m     59\u001B[0m \u001B[38;5;28;01mfor\u001B[39;00m i \u001B[38;5;129;01min\u001B[39;00m \u001B[38;5;28mrange\u001B[39m(steps):\n\u001B[0;32m     60\u001B[0m     \u001B[38;5;28;01mfor\u001B[39;00m idx \u001B[38;5;129;01min\u001B[39;00m \u001B[38;5;28mrange\u001B[39m(num_training_points):\n\u001B[1;32m---> 61\u001B[0m         weights \u001B[38;5;241m=\u001B[39m \u001B[43mopt\u001B[49m\u001B[38;5;241;43m.\u001B[39;49m\u001B[43mstep\u001B[49m\u001B[43m(\u001B[49m\u001B[43mcost\u001B[49m\u001B[43m,\u001B[49m\u001B[43m \u001B[49m\u001B[43mweights\u001B[49m\u001B[43m,\u001B[49m\u001B[43m \u001B[49m\u001B[43midx\u001B[49m\u001B[38;5;241;43m=\u001B[39;49m\u001B[43midx\u001B[49m\u001B[43m)\u001B[49m\n\u001B[0;32m     62\u001B[0m     \u001B[38;5;28;01mif\u001B[39;00m (i \u001B[38;5;241m+\u001B[39m \u001B[38;5;241m1\u001B[39m) \u001B[38;5;241m%\u001B[39m \u001B[38;5;241m5\u001B[39m \u001B[38;5;241m==\u001B[39m \u001B[38;5;241m0\u001B[39m:\n\u001B[0;32m     63\u001B[0m         \u001B[38;5;66;03m# for x in range(input_train.shape[0]):\u001B[39;00m\n\u001B[0;32m     64\u001B[0m         \u001B[38;5;66;03m#     predicted_output = circuit(weights, x)\u001B[39;00m\n\u001B[0;32m     65\u001B[0m         \u001B[38;5;66;03m#     error = np.abs(predicted_output - target_function[x])\u001B[39;00m\n\u001B[0;32m     66\u001B[0m         \u001B[38;5;66;03m#     print(f\"Step: {i}, Input: {x}, Expected: {target_function[x]:.4f}, Predicted: {predicted_output:.4f}, Error: {error:.4f}\")\u001B[39;00m\n\u001B[0;32m     67\u001B[0m         predicted_output \u001B[38;5;241m=\u001B[39m circuit(weights, idx)\n",
      "File \u001B[1;32m~\\AppData\\Local\\Programs\\Python\\Python312\\Lib\\site-packages\\pennylane\\optimize\\gradient_descent.py:93\u001B[0m, in \u001B[0;36mGradientDescentOptimizer.step\u001B[1;34m(self, objective_fn, grad_fn, *args, **kwargs)\u001B[0m\n\u001B[0;32m     75\u001B[0m \u001B[38;5;28;01mdef\u001B[39;00m \u001B[38;5;21mstep\u001B[39m(\u001B[38;5;28mself\u001B[39m, objective_fn, \u001B[38;5;241m*\u001B[39margs, grad_fn\u001B[38;5;241m=\u001B[39m\u001B[38;5;28;01mNone\u001B[39;00m, \u001B[38;5;241m*\u001B[39m\u001B[38;5;241m*\u001B[39mkwargs):\n\u001B[0;32m     76\u001B[0m \u001B[38;5;250m    \u001B[39m\u001B[38;5;124;03m\"\"\"Update trainable arguments with one step of the optimizer.\u001B[39;00m\n\u001B[0;32m     77\u001B[0m \n\u001B[0;32m     78\u001B[0m \u001B[38;5;124;03m    Args:\u001B[39;00m\n\u001B[1;32m   (...)\u001B[0m\n\u001B[0;32m     90\u001B[0m \u001B[38;5;124;03m        If single arg is provided, list [array] is replaced by array.\u001B[39;00m\n\u001B[0;32m     91\u001B[0m \u001B[38;5;124;03m    \"\"\"\u001B[39;00m\n\u001B[1;32m---> 93\u001B[0m     g, _ \u001B[38;5;241m=\u001B[39m \u001B[38;5;28;43mself\u001B[39;49m\u001B[38;5;241;43m.\u001B[39;49m\u001B[43mcompute_grad\u001B[49m\u001B[43m(\u001B[49m\u001B[43mobjective_fn\u001B[49m\u001B[43m,\u001B[49m\u001B[43m \u001B[49m\u001B[43margs\u001B[49m\u001B[43m,\u001B[49m\u001B[43m \u001B[49m\u001B[43mkwargs\u001B[49m\u001B[43m,\u001B[49m\u001B[43m \u001B[49m\u001B[43mgrad_fn\u001B[49m\u001B[38;5;241;43m=\u001B[39;49m\u001B[43mgrad_fn\u001B[49m\u001B[43m)\u001B[49m\n\u001B[0;32m     94\u001B[0m     new_args \u001B[38;5;241m=\u001B[39m \u001B[38;5;28mself\u001B[39m\u001B[38;5;241m.\u001B[39mapply_grad(g, args)\n\u001B[0;32m     96\u001B[0m     \u001B[38;5;66;03m# unwrap from list if one argument, cleaner return\u001B[39;00m\n",
      "File \u001B[1;32m~\\AppData\\Local\\Programs\\Python\\Python312\\Lib\\site-packages\\pennylane\\optimize\\gradient_descent.py:122\u001B[0m, in \u001B[0;36mGradientDescentOptimizer.compute_grad\u001B[1;34m(objective_fn, args, kwargs, grad_fn)\u001B[0m\n\u001B[0;32m    104\u001B[0m \u001B[38;5;250m\u001B[39m\u001B[38;5;124mr\u001B[39m\u001B[38;5;124;03m\"\"\"Compute gradient of the objective function at the given point and return it along with\u001B[39;00m\n\u001B[0;32m    105\u001B[0m \u001B[38;5;124;03mthe objective function forward pass (if available).\u001B[39;00m\n\u001B[0;32m    106\u001B[0m \n\u001B[1;32m   (...)\u001B[0m\n\u001B[0;32m    119\u001B[0m \u001B[38;5;124;03m    will not be evaluted and instead ``None`` will be returned.\u001B[39;00m\n\u001B[0;32m    120\u001B[0m \u001B[38;5;124;03m\"\"\"\u001B[39;00m\n\u001B[0;32m    121\u001B[0m g \u001B[38;5;241m=\u001B[39m get_gradient(objective_fn) \u001B[38;5;28;01mif\u001B[39;00m grad_fn \u001B[38;5;129;01mis\u001B[39;00m \u001B[38;5;28;01mNone\u001B[39;00m \u001B[38;5;28;01melse\u001B[39;00m grad_fn\n\u001B[1;32m--> 122\u001B[0m grad \u001B[38;5;241m=\u001B[39m \u001B[43mg\u001B[49m\u001B[43m(\u001B[49m\u001B[38;5;241;43m*\u001B[39;49m\u001B[43margs\u001B[49m\u001B[43m,\u001B[49m\u001B[43m \u001B[49m\u001B[38;5;241;43m*\u001B[39;49m\u001B[38;5;241;43m*\u001B[39;49m\u001B[43mkwargs\u001B[49m\u001B[43m)\u001B[49m\n\u001B[0;32m    123\u001B[0m forward \u001B[38;5;241m=\u001B[39m \u001B[38;5;28mgetattr\u001B[39m(g, \u001B[38;5;124m\"\u001B[39m\u001B[38;5;124mforward\u001B[39m\u001B[38;5;124m\"\u001B[39m, \u001B[38;5;28;01mNone\u001B[39;00m)\n\u001B[0;32m    125\u001B[0m num_trainable_args \u001B[38;5;241m=\u001B[39m \u001B[38;5;28msum\u001B[39m(\u001B[38;5;28mgetattr\u001B[39m(arg, \u001B[38;5;124m\"\u001B[39m\u001B[38;5;124mrequires_grad\u001B[39m\u001B[38;5;124m\"\u001B[39m, \u001B[38;5;28;01mFalse\u001B[39;00m) \u001B[38;5;28;01mfor\u001B[39;00m arg \u001B[38;5;129;01min\u001B[39;00m args)\n",
      "File \u001B[1;32m~\\AppData\\Local\\Programs\\Python\\Python312\\Lib\\site-packages\\pennylane\\_grad.py:165\u001B[0m, in \u001B[0;36mgrad.__call__\u001B[1;34m(self, *args, **kwargs)\u001B[0m\n\u001B[0;32m    162\u001B[0m     \u001B[38;5;28mself\u001B[39m\u001B[38;5;241m.\u001B[39m_forward \u001B[38;5;241m=\u001B[39m \u001B[38;5;28mself\u001B[39m\u001B[38;5;241m.\u001B[39m_fun(\u001B[38;5;241m*\u001B[39margs, \u001B[38;5;241m*\u001B[39m\u001B[38;5;241m*\u001B[39mkwargs)\n\u001B[0;32m    163\u001B[0m     \u001B[38;5;28;01mreturn\u001B[39;00m ()\n\u001B[1;32m--> 165\u001B[0m grad_value, ans \u001B[38;5;241m=\u001B[39m \u001B[43mgrad_fn\u001B[49m\u001B[43m(\u001B[49m\u001B[38;5;241;43m*\u001B[39;49m\u001B[43margs\u001B[49m\u001B[43m,\u001B[49m\u001B[43m \u001B[49m\u001B[38;5;241;43m*\u001B[39;49m\u001B[38;5;241;43m*\u001B[39;49m\u001B[43mkwargs\u001B[49m\u001B[43m)\u001B[49m  \u001B[38;5;66;03m# pylint: disable=not-callable\u001B[39;00m\n\u001B[0;32m    166\u001B[0m \u001B[38;5;28mself\u001B[39m\u001B[38;5;241m.\u001B[39m_forward \u001B[38;5;241m=\u001B[39m ans\n\u001B[0;32m    168\u001B[0m \u001B[38;5;28;01mreturn\u001B[39;00m grad_value\n",
      "File \u001B[1;32m~\\AppData\\Local\\Programs\\Python\\Python312\\Lib\\site-packages\\autograd\\wrap_util.py:20\u001B[0m, in \u001B[0;36munary_to_nary.<locals>.nary_operator.<locals>.nary_f\u001B[1;34m(*args, **kwargs)\u001B[0m\n\u001B[0;32m     18\u001B[0m \u001B[38;5;28;01melse\u001B[39;00m:\n\u001B[0;32m     19\u001B[0m     x \u001B[38;5;241m=\u001B[39m \u001B[38;5;28mtuple\u001B[39m(args[i] \u001B[38;5;28;01mfor\u001B[39;00m i \u001B[38;5;129;01min\u001B[39;00m argnum)\n\u001B[1;32m---> 20\u001B[0m \u001B[38;5;28;01mreturn\u001B[39;00m \u001B[43munary_operator\u001B[49m\u001B[43m(\u001B[49m\u001B[43munary_f\u001B[49m\u001B[43m,\u001B[49m\u001B[43m \u001B[49m\u001B[43mx\u001B[49m\u001B[43m,\u001B[49m\u001B[43m \u001B[49m\u001B[38;5;241;43m*\u001B[39;49m\u001B[43mnary_op_args\u001B[49m\u001B[43m,\u001B[49m\u001B[43m \u001B[49m\u001B[38;5;241;43m*\u001B[39;49m\u001B[38;5;241;43m*\u001B[39;49m\u001B[43mnary_op_kwargs\u001B[49m\u001B[43m)\u001B[49m\n",
      "File \u001B[1;32m~\\AppData\\Local\\Programs\\Python\\Python312\\Lib\\site-packages\\pennylane\\_grad.py:191\u001B[0m, in \u001B[0;36mgrad._grad_with_forward\u001B[1;34m(fun, x)\u001B[0m\n\u001B[0;32m    185\u001B[0m \u001B[38;5;28;01mif\u001B[39;00m vspace(ans)\u001B[38;5;241m.\u001B[39msize \u001B[38;5;241m!=\u001B[39m \u001B[38;5;241m1\u001B[39m:\n\u001B[0;32m    186\u001B[0m     \u001B[38;5;28;01mraise\u001B[39;00m \u001B[38;5;167;01mTypeError\u001B[39;00m(\n\u001B[0;32m    187\u001B[0m         \u001B[38;5;124m\"\u001B[39m\u001B[38;5;124mGrad only applies to real scalar-output functions. \u001B[39m\u001B[38;5;124m\"\u001B[39m\n\u001B[0;32m    188\u001B[0m         \u001B[38;5;124m\"\u001B[39m\u001B[38;5;124mTry jacobian, elementwise_grad or holomorphic_grad.\u001B[39m\u001B[38;5;124m\"\u001B[39m\n\u001B[0;32m    189\u001B[0m     )\n\u001B[1;32m--> 191\u001B[0m grad_value \u001B[38;5;241m=\u001B[39m \u001B[43mvjp\u001B[49m\u001B[43m(\u001B[49m\u001B[43mvspace\u001B[49m\u001B[43m(\u001B[49m\u001B[43mans\u001B[49m\u001B[43m)\u001B[49m\u001B[38;5;241;43m.\u001B[39;49m\u001B[43mones\u001B[49m\u001B[43m(\u001B[49m\u001B[43m)\u001B[49m\u001B[43m)\u001B[49m\n\u001B[0;32m    192\u001B[0m \u001B[38;5;28;01mreturn\u001B[39;00m grad_value, ans\n",
      "File \u001B[1;32m~\\AppData\\Local\\Programs\\Python\\Python312\\Lib\\site-packages\\autograd\\core.py:14\u001B[0m, in \u001B[0;36mmake_vjp.<locals>.vjp\u001B[1;34m(g)\u001B[0m\n\u001B[1;32m---> 14\u001B[0m \u001B[38;5;28;01mdef\u001B[39;00m \u001B[38;5;21mvjp\u001B[39m(g): \u001B[38;5;28;01mreturn\u001B[39;00m \u001B[43mbackward_pass\u001B[49m\u001B[43m(\u001B[49m\u001B[43mg\u001B[49m\u001B[43m,\u001B[49m\u001B[43m \u001B[49m\u001B[43mend_node\u001B[49m\u001B[43m)\u001B[49m\n",
      "File \u001B[1;32m~\\AppData\\Local\\Programs\\Python\\Python312\\Lib\\site-packages\\autograd\\core.py:23\u001B[0m, in \u001B[0;36mbackward_pass\u001B[1;34m(g, end_node)\u001B[0m\n\u001B[0;32m     21\u001B[0m     ingrads \u001B[38;5;241m=\u001B[39m node\u001B[38;5;241m.\u001B[39mvjp(outgrad[\u001B[38;5;241m0\u001B[39m])\n\u001B[0;32m     22\u001B[0m     \u001B[38;5;28;01mfor\u001B[39;00m parent, ingrad \u001B[38;5;129;01min\u001B[39;00m \u001B[38;5;28mzip\u001B[39m(node\u001B[38;5;241m.\u001B[39mparents, ingrads):\n\u001B[1;32m---> 23\u001B[0m         outgrads[parent] \u001B[38;5;241m=\u001B[39m \u001B[43madd_outgrads\u001B[49m\u001B[43m(\u001B[49m\u001B[43moutgrads\u001B[49m\u001B[38;5;241;43m.\u001B[39;49m\u001B[43mget\u001B[49m\u001B[43m(\u001B[49m\u001B[43mparent\u001B[49m\u001B[43m)\u001B[49m\u001B[43m,\u001B[49m\u001B[43m \u001B[49m\u001B[43mingrad\u001B[49m\u001B[43m)\u001B[49m\n\u001B[0;32m     24\u001B[0m \u001B[38;5;28;01mreturn\u001B[39;00m outgrad[\u001B[38;5;241m0\u001B[39m]\n",
      "File \u001B[1;32m~\\AppData\\Local\\Programs\\Python\\Python312\\Lib\\site-packages\\autograd\\core.py:176\u001B[0m, in \u001B[0;36madd_outgrads\u001B[1;34m(prev_g_flagged, g)\u001B[0m\n\u001B[0;32m    174\u001B[0m \u001B[38;5;28;01melse\u001B[39;00m:\n\u001B[0;32m    175\u001B[0m     \u001B[38;5;28;01mif\u001B[39;00m sparse:\n\u001B[1;32m--> 176\u001B[0m         \u001B[38;5;28;01mreturn\u001B[39;00m \u001B[43msparse_add\u001B[49m\u001B[43m(\u001B[49m\u001B[43mvspace\u001B[49m\u001B[43m(\u001B[49m\u001B[43mg\u001B[49m\u001B[43m)\u001B[49m\u001B[43m,\u001B[49m\u001B[43m \u001B[49m\u001B[38;5;28;43;01mNone\u001B[39;49;00m\u001B[43m,\u001B[49m\u001B[43m \u001B[49m\u001B[43mg\u001B[49m\u001B[43m)\u001B[49m, \u001B[38;5;28;01mTrue\u001B[39;00m\n\u001B[0;32m    177\u001B[0m     \u001B[38;5;28;01melse\u001B[39;00m:\n\u001B[0;32m    178\u001B[0m         \u001B[38;5;28;01mreturn\u001B[39;00m g, \u001B[38;5;28;01mFalse\u001B[39;00m\n",
      "File \u001B[1;32m~\\AppData\\Local\\Programs\\Python\\Python312\\Lib\\site-packages\\autograd\\tracer.py:48\u001B[0m, in \u001B[0;36mprimitive.<locals>.f_wrapped\u001B[1;34m(*args, **kwargs)\u001B[0m\n\u001B[0;32m     46\u001B[0m     \u001B[38;5;28;01mreturn\u001B[39;00m new_box(ans, trace, node)\n\u001B[0;32m     47\u001B[0m \u001B[38;5;28;01melse\u001B[39;00m:\n\u001B[1;32m---> 48\u001B[0m     \u001B[38;5;28;01mreturn\u001B[39;00m \u001B[43mf_raw\u001B[49m\u001B[43m(\u001B[49m\u001B[38;5;241;43m*\u001B[39;49m\u001B[43margs\u001B[49m\u001B[43m,\u001B[49m\u001B[43m \u001B[49m\u001B[38;5;241;43m*\u001B[39;49m\u001B[38;5;241;43m*\u001B[39;49m\u001B[43mkwargs\u001B[49m\u001B[43m)\u001B[49m\n",
      "File \u001B[1;32m~\\AppData\\Local\\Programs\\Python\\Python312\\Lib\\site-packages\\autograd\\core.py:186\u001B[0m, in \u001B[0;36msparse_add\u001B[1;34m(vs, x_prev, x_new)\u001B[0m\n\u001B[0;32m    183\u001B[0m \u001B[38;5;129m@primitive\u001B[39m\n\u001B[0;32m    184\u001B[0m \u001B[38;5;28;01mdef\u001B[39;00m \u001B[38;5;21msparse_add\u001B[39m(vs, x_prev, x_new):\n\u001B[0;32m    185\u001B[0m     x_prev \u001B[38;5;241m=\u001B[39m x_prev \u001B[38;5;28;01mif\u001B[39;00m x_prev \u001B[38;5;129;01mis\u001B[39;00m \u001B[38;5;129;01mnot\u001B[39;00m \u001B[38;5;28;01mNone\u001B[39;00m \u001B[38;5;28;01melse\u001B[39;00m vs\u001B[38;5;241m.\u001B[39mzeros()\n\u001B[1;32m--> 186\u001B[0m     \u001B[38;5;28;01mreturn\u001B[39;00m \u001B[43mx_new\u001B[49m\u001B[38;5;241;43m.\u001B[39;49m\u001B[43mmut_add\u001B[49m\u001B[43m(\u001B[49m\u001B[43mx_prev\u001B[49m\u001B[43m)\u001B[49m\n",
      "File \u001B[1;32m~\\AppData\\Local\\Programs\\Python\\Python312\\Lib\\site-packages\\autograd\\numpy\\numpy_vjps.py:698\u001B[0m, in \u001B[0;36muntake.<locals>.mut_add\u001B[1;34m(A)\u001B[0m\n\u001B[0;32m    697\u001B[0m \u001B[38;5;28;01mdef\u001B[39;00m \u001B[38;5;21mmut_add\u001B[39m(A):\n\u001B[1;32m--> 698\u001B[0m     \u001B[43monp\u001B[49m\u001B[38;5;241;43m.\u001B[39;49m\u001B[43madd\u001B[49m\u001B[38;5;241;43m.\u001B[39;49m\u001B[43mat\u001B[49m\u001B[43m(\u001B[49m\u001B[43mA\u001B[49m\u001B[43m,\u001B[49m\u001B[43m \u001B[49m\u001B[43midx\u001B[49m\u001B[43m,\u001B[49m\u001B[43m \u001B[49m\u001B[43mx\u001B[49m\u001B[43m)\u001B[49m\n\u001B[0;32m    699\u001B[0m     \u001B[38;5;28;01mreturn\u001B[39;00m A\n",
      "\u001B[1;31mKeyboardInterrupt\u001B[0m: "
     ]
    }
   ],
   "execution_count": 116
  },
  {
   "metadata": {},
   "cell_type": "code",
   "source": [
    "# Collect many outputs from the circuit to generate a distribution\n",
    "num_shots = 100\n",
    "output_states = []\n",
    "for i, x in enumerate(input_train):\n",
    "    for _ in range(num_shots):\n",
    "        output_states.append(circuit(weights, x=x))\n",
    "    if i % 10 == 0:  # Adjust this value based on the size of your input_train\n",
    "        print(f\"Processed {i} inputs out of {len(input_train)}\")"
   ],
   "id": "b62937f674d68381",
   "outputs": [],
   "execution_count": null
  },
  {
   "metadata": {},
   "cell_type": "code",
   "source": [
    "# Plot the distribution\n",
    "plt.hist(output_states, bins=30, density=True)\n",
    "plt.xlabel(\"Output state\")\n",
    "plt.ylabel(\"Probability\")\n",
    "plt.show()"
   ],
   "id": "ea0e51768b660f6b",
   "outputs": [],
   "execution_count": null
  }
 ],
 "metadata": {
  "kernelspec": {
   "display_name": "Python 3",
   "language": "python",
   "name": "python3"
  },
  "language_info": {
   "codemirror_mode": {
    "name": "ipython",
    "version": 2
   },
   "file_extension": ".py",
   "mimetype": "text/x-python",
   "name": "python",
   "nbconvert_exporter": "python",
   "pygments_lexer": "ipython2",
   "version": "2.7.6"
  }
 },
 "nbformat": 4,
 "nbformat_minor": 5
}
